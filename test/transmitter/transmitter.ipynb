{
 "cells": [
  {
   "cell_type": "code",
   "execution_count": 1,
   "metadata": {},
   "outputs": [
    {
     "name": "stdout",
     "output_type": "stream",
     "text": [
      "0011000101101000001100010110010100110010011011000011000101101111\n"
     ]
    }
   ],
   "source": [
    "# Mã hoá nén văn bản thành nhị phân sử dụng Run length encoding để giảm băng thông\n",
    "def run_length_encoding(text):\n",
    "    encoded_text = \"\"\n",
    "    i = 0\n",
    "    while i < len(text):\n",
    "        count = 1\n",
    "        while i + 1 < len(text) and text[i] == text[i + 1]:\n",
    "            count += 1\n",
    "            i += 1\n",
    "        encoded_text += str(count) + text[i]\n",
    "        i += 1\n",
    "    return encoded_text\n",
    "\n",
    "with open('text.txt', 'r') as file:\n",
    "    text = file.read()\n",
    "    encoded_text = run_length_encoding(text)\n",
    "    binary_string = ''.join(format(ord(i), '08b') for i in encoded_text)\n",
    "    print(binary_string)\n"
   ]
  },
  {
   "cell_type": "code",
   "execution_count": 2,
   "metadata": {},
   "outputs": [
    {
     "name": "stdout",
     "output_type": "stream",
     "text": [
      "001100010110100000110001011001010011001001101100001100010110111100001010010101111101101100101000\n"
     ]
    }
   ],
   "source": [
    "# Thêm mã phát hiện lỗi CRC\n",
    "import binascii\n",
    "\n",
    "def crc_encode(binary_string):\n",
    "    data = int(binary_string, 2).to_bytes((len(binary_string) + 7) // 8, byteorder='big')\n",
    "    crc = binascii.crc32(data)\n",
    "    crc_binary = format(crc, '032b')\n",
    "    return binary_string + crc_binary\n",
    "\n",
    "CRC_binary_string = crc_encode(binary_string)\n",
    "\n",
    "# In ra\n",
    "print(CRC_binary_string)"
   ]
  },
  {
   "cell_type": "code",
   "execution_count": 3,
   "metadata": {},
   "outputs": [
    {
     "name": "stdout",
     "output_type": "stream",
     "text": [
      "010101001100010110100000110001011001010011001001101100001100010110111100001010010101111101101100101000101010\n"
     ]
    }
   ],
   "source": [
    "# Định nghĩa chuỗi tiền tố và hậu tố\n",
    "preamble = '010101'\n",
    "postamble = '101010'\n",
    "\n",
    "# Thêm tiền tố và hậu tố vào dòng bit\n",
    "bits_with_preamble_and_postamble = preamble + CRC_binary_string + postamble\n",
    "\n",
    "#Tín hiệu sau khi thêm tiền tố và hậu tố\n",
    "print(bits_with_preamble_and_postamble)"
   ]
  },
  {
   "cell_type": "code",
   "execution_count": 4,
   "metadata": {},
   "outputs": [
    {
     "data": {
      "text/plain": [
       "<sounddevice.CallbackFlags: output underflow>"
      ]
     },
     "execution_count": 4,
     "metadata": {},
     "output_type": "execute_result"
    }
   ],
   "source": [
    "# Điều chế FSK và phát âm thanh\n",
    "import numpy as np\n",
    "import sounddevice as sd\n",
    "from scipy.io.wavfile import write\n",
    "\n",
    "def encode(binary_string, sample_rate=44100, baud_rate=50):\n",
    "    samples_per_bit = sample_rate // baud_rate\n",
    "    audio_signal = np.zeros(samples_per_bit * len(binary_string))\n",
    "    time = np.linspace(0, 1, samples_per_bit)\n",
    "    for i in range(len(binary_string)):\n",
    "        if binary_string[i] == '1':\n",
    "            audio_signal[i*samples_per_bit:(i+1)*samples_per_bit] = np.sin(2 * np.pi * 300 * time)\n",
    "        elif binary_string[i] == '0':\n",
    "            audio_signal[i*samples_per_bit:(i+1)*samples_per_bit] = np.sin(2 * np.pi * 100 * time)\n",
    "    return audio_signal\n",
    "\n",
    "audio_signal = encode(bits_with_preamble_and_postamble)\n",
    "write('audio_signal.wav', 44100, audio_signal)\n",
    "\n",
    "# Phát âm thanh\n",
    "sd.play(audio_signal, 44100)\n",
    "sd.wait()"
   ]
  }
 ],
 "metadata": {
  "kernelspec": {
   "display_name": "Python 3",
   "language": "python",
   "name": "python3"
  },
  "language_info": {
   "codemirror_mode": {
    "name": "ipython",
    "version": 3
   },
   "file_extension": ".py",
   "mimetype": "text/x-python",
   "name": "python",
   "nbconvert_exporter": "python",
   "pygments_lexer": "ipython3",
   "version": "3.10.11"
  },
  "orig_nbformat": 4
 },
 "nbformat": 4,
 "nbformat_minor": 2
}
