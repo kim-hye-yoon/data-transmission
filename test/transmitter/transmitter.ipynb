{
 "cells": [
  {
   "cell_type": "code",
   "execution_count": 15,
   "metadata": {},
   "outputs": [
    {
     "name": "stdout",
     "output_type": "stream",
     "text": [
      "0011000101101000001100010110010100110010011011000011000101101111\n"
     ]
    }
   ],
   "source": [
    "# Mã hoá nguồn bằng phương pháp nén văn bản thành mã nhị phân sử dụng Run length encoding để giảm bit\n",
    "def run_length_encoding(text):\n",
    "    encoded_text = \"\"\n",
    "    i = 0\n",
    "    while i < len(text):\n",
    "        count = 1\n",
    "        while i + 1 < len(text) and text[i] == text[i + 1]:\n",
    "            count += 1\n",
    "            i += 1\n",
    "        encoded_text += str(count) + text[i]\n",
    "        i += 1\n",
    "    return encoded_text\n",
    "\n",
    "with open('text.txt', 'r') as file:\n",
    "    text = file.read()\n",
    "    encoded_text = run_length_encoding(text)\n",
    "    binary_string = ''.join(format(ord(i), '08b') for i in encoded_text)\n",
    "    print(binary_string)\n"
   ]
  },
  {
   "cell_type": "code",
   "execution_count": 16,
   "metadata": {},
   "outputs": [
    {
     "name": "stdout",
     "output_type": "stream",
     "text": [
      "001100010110100000110001011001010011001001101100001100010110111100001010010101111101101100101000\n"
     ]
    }
   ],
   "source": [
    "# Mã hoá kênh dùng mã phát hiện lỗi CRC\n",
    "import binascii\n",
    "\n",
    "def crc_encode(binary_string):\n",
    "    data = int(binary_string, 2).to_bytes((len(binary_string) + 7) // 8, byteorder='big')\n",
    "    crc = binascii.crc32(data)\n",
    "    crc_binary = format(crc, '032b')\n",
    "    return binary_string + crc_binary\n",
    "\n",
    "CRC_binary_string = crc_encode(binary_string)\n",
    "\n",
    "# In ra\n",
    "print(CRC_binary_string)"
   ]
  },
  {
   "cell_type": "code",
   "execution_count": 17,
   "metadata": {},
   "outputs": [
    {
     "name": "stdout",
     "output_type": "stream",
     "text": [
      "010101001100010110100000110001011001010011001001101100001100010110111100001010010101111101101100101000101010\n"
     ]
    }
   ],
   "source": [
    "# Định nghĩa chuỗi tiền tố và hậu tố\n",
    "preamble = '010101'\n",
    "postamble = '101010'\n",
    "\n",
    "# Thêm tiền tố và hậu tố vào dòng bit\n",
    "bits_with_pre_and_post = preamble + CRC_binary_string + postamble\n",
    "\n",
    "#Tín hiệu sau khi thêm tiền tố và hậu tố\n",
    "print(bits_with_pre_and_post)"
   ]
  },
  {
   "cell_type": "code",
   "execution_count": 18,
   "metadata": {},
   "outputs": [],
   "source": [
    "# Điều chế BFSK \n",
    "import numpy as np\n",
    "from scipy.io.wavfile import write\n",
    "\n",
    "def encode(binary_string, sample_rate=44100, baud_rate=50):\n",
    "    samples_per_bit = sample_rate // baud_rate\n",
    "    audio_signal = np.zeros(samples_per_bit * len(binary_string))\n",
    "    time = np.linspace(0, 1, samples_per_bit)\n",
    "\n",
    "# Sóng mang có tần số F0 = 5000 Hz và F1 = 15000 Hz\n",
    "    for i in range(len(binary_string)):\n",
    "        if binary_string[i] == '1':\n",
    "            audio_signal[i*samples_per_bit:(i+1)*samples_per_bit] = np.sin(2 * np.pi * 300 * time)\n",
    "        elif binary_string[i] == '0':\n",
    "            audio_signal[i*samples_per_bit:(i+1)*samples_per_bit] = np.sin(2 * np.pi * 100 * time)\n",
    "    return audio_signal\n",
    "\n",
    "audio_signal = encode(bits_with_pre_and_post)\n",
    "write('audio_signal.wav', 44100, audio_signal)"
   ]
  },
  {
   "cell_type": "code",
   "execution_count": 19,
   "metadata": {},
   "outputs": [],
   "source": [
    "import pyaudio\n",
    "from scipy.io.wavfile import read\n",
    "\n",
    "# Đọc tín hiệu âm thanh từ một tệp\n",
    "sample_rate, audio_signal = read('audio_signal.wav')\n",
    "\n",
    "# Chuyển đổi tín hiệu âm thanh thành một mảng numpy\n",
    "audio_signal = np.array(audio_signal, dtype=np.float32)\n",
    "\n",
    "# Khởi tạo PyAudio\n",
    "p = pyaudio.PyAudio()\n",
    "\n",
    "# Mở một luồng để phát âm thanh\n",
    "stream = p.open(format=pyaudio.paFloat32,\n",
    "                channels=1,\n",
    "                rate=sample_rate,\n",
    "                output=True)\n",
    "\n",
    "# Phát tín hiệu âm thanh\n",
    "stream.write(audio_signal.tobytes())\n",
    "\n",
    "# Đóng luồng và kết thúc PyAudio\n",
    "stream.stop_stream()\n",
    "stream.close()\n",
    "p.terminate()"
   ]
  }
 ],
 "metadata": {
  "kernelspec": {
   "display_name": "Python 3",
   "language": "python",
   "name": "python3"
  },
  "language_info": {
   "codemirror_mode": {
    "name": "ipython",
    "version": 3
   },
   "file_extension": ".py",
   "mimetype": "text/x-python",
   "name": "python",
   "nbconvert_exporter": "python",
   "pygments_lexer": "ipython3",
   "version": "3.11.3"
  },
  "orig_nbformat": 4
 },
 "nbformat": 4,
 "nbformat_minor": 2
}
