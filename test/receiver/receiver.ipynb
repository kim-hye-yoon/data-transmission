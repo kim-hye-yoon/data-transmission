{
 "cells": [
  {
   "cell_type": "code",
   "execution_count": 8,
   "metadata": {},
   "outputs": [
    {
     "name": "stdout",
     "output_type": "stream",
     "text": [
      "00110011011101111000000000000000000000000000000000000000000000000000000000000000000000000000000000000001000000000001000000000000000000000000000000000000000000000000000000000000000000000000000000000000001000000000000000000000000000000000000000000000000000000000000000000000000000000010101001000010110110100110001011001010011000101110010001100010110001100110001011010011110010101111111100001000111011010101000101000000000100000000011100000000000000000000000000000000000000010000000000\n"
     ]
    }
   ],
   "source": [
    "# Giải điều chế âm thanh nhận được\n",
    "import warnings\n",
    "import numpy as np\n",
    "from scipy import signal\n",
    "from scipy.io.wavfile import read\n",
    "\n",
    "def decode(audio_signal, sample_rate=44100, baud_rate=50):\n",
    "    samples_per_bit = sample_rate // baud_rate\n",
    "    num_bits = len(audio_signal) // samples_per_bit\n",
    "    binary_string = ''\n",
    "    for i in range(num_bits):\n",
    "        bit_signal = audio_signal[i*samples_per_bit:(i+1)*samples_per_bit]\n",
    "        f, Pxx = signal.periodogram(bit_signal, sample_rate)\n",
    "        \n",
    "        if f[np.argmax(Pxx)] > 10000:  # Với các mẫu có tần số > 10000 Hz là bit 1, <10000 Hz là bit 0\n",
    "            binary_string += '1'\n",
    "        else:\n",
    "            binary_string += '0'\n",
    "    return binary_string\n",
    "\n",
    "\n",
    "with warnings.catch_warnings():\n",
    "    warnings.simplefilter('ignore')\n",
    "    sample_rate, audio_signal = read('rec.wav')\n",
    "\n",
    "# Sau khi giải mã file ghi âm ta sẽ nhận được dòng bit có các bit 0 dư thừa ở đầu và cuối tín hiệu\n",
    "decoded_binary_string = decode(audio_signal, sample_rate)\n",
    "print(decoded_binary_string)"
   ]
  },
  {
   "cell_type": "code",
   "execution_count": 12,
   "metadata": {},
   "outputs": [
    {
     "name": "stdout",
     "output_type": "stream",
     "text": [
      "0010000101101101001100010110010100110001011100100011000101100011001100010110100111100101011111111000010001110110\n"
     ]
    }
   ],
   "source": [
    "# Xoá bỏ chuỗi tiền tố, hậu tố, các bit 0 dư thừa\n",
    "def remove_extra_bits(binary_string, preamble='010101', postamble='101010'):\n",
    "    start_index = binary_string.find(preamble) + len(preamble)\n",
    "    end_index = binary_string.rfind(postamble)\n",
    "# Nếu không tìm thấy tiền tố và hậu tố, thông báo \"Tín hiệu nhận bị lỗi\"\n",
    "    if start_index == -1 or end_index == -1:\n",
    "        print('Tín hiệu nhận bị lỗi')\n",
    "        return\n",
    "    return binary_string[start_index:end_index]\n",
    "\n",
    "# Định nghĩa chuỗi tiền tố và hậu tố\n",
    "preamble = '010101'\n",
    "postamble = '101010'\n",
    " \n",
    "# Giải mã và in kết quả\n",
    "CRC_binary_string = remove_extra_bits(decoded_binary_string, preamble, postamble)\n",
    "if CRC_binary_string:\n",
    "    print(CRC_binary_string)"
   ]
  },
  {
   "cell_type": "code",
   "execution_count": 13,
   "metadata": {},
   "outputs": [
    {
     "name": "stdout",
     "output_type": "stream",
     "text": [
      "Tín hiệu nhận bị lỗi\n"
     ]
    }
   ],
   "source": [
    "# Giải mã kênh mã hoá bằng mã phát hiện lỗi CRC\n",
    "import binascii\n",
    "\n",
    "def crc_decode(CRC_binary_string):\n",
    "    # Tách chuỗi nhị phân thành phần dữ liệu và phần CRC\n",
    "    data_binary = CRC_binary_string[:-32]\n",
    "    crc_binary = CRC_binary_string[-32:]\n",
    "\n",
    "    # Chuyển đổi phần dữ liệu từ nhị phân sang bytes\n",
    "    data = int(data_binary, 2).to_bytes((len(data_binary) + 7) // 8, byteorder='big')\n",
    "\n",
    "    # Tính toán CRC của phần dữ liệu\n",
    "    crc = binascii.crc32(data)\n",
    "    crc_calculated_binary = format(crc, '032b')\n",
    "\n",
    "    # Kiểm tra xem CRC được tính toán có khớp với phần CRC từ đầu vào hay không\n",
    "    if crc_calculated_binary == crc_binary:\n",
    "        return data_binary\n",
    "    else:\n",
    "        return None\n",
    "\n",
    "# Giải mã\n",
    "binary_string = crc_decode(CRC_binary_string)\n",
    "\n",
    "# In ra\n",
    "if binary_string is not None:\n",
    "    print(binary_string)\n",
    "else:\n",
    "    print('Tín hiệu nhận bị lỗi')"
   ]
  },
  {
   "cell_type": "code",
   "execution_count": 11,
   "metadata": {},
   "outputs": [
    {
     "name": "stdout",
     "output_type": "stream",
     "text": [
      "Tín hiệu nhận bị lỗi\n"
     ]
    },
    {
     "ename": "TypeError",
     "evalue": "write() argument must be str, not None",
     "output_type": "error",
     "traceback": [
      "\u001b[1;31m---------------------------------------------------------------------------\u001b[0m",
      "\u001b[1;31mTypeError\u001b[0m                                 Traceback (most recent call last)",
      "Cell \u001b[1;32mIn[11], line 25\u001b[0m\n\u001b[0;32m     23\u001b[0m file_name \u001b[39m=\u001b[39m \u001b[39m'\u001b[39m\u001b[39mdecoded_text.txt\u001b[39m\u001b[39m'\u001b[39m\n\u001b[0;32m     24\u001b[0m \u001b[39mwith\u001b[39;00m \u001b[39mopen\u001b[39m(file_name, \u001b[39m'\u001b[39m\u001b[39mw\u001b[39m\u001b[39m'\u001b[39m) \u001b[39mas\u001b[39;00m f:\n\u001b[1;32m---> 25\u001b[0m     f\u001b[39m.\u001b[39;49mwrite(decoded_text)\n",
      "\u001b[1;31mTypeError\u001b[0m: write() argument must be str, not None"
     ]
    }
   ],
   "source": [
    "# Giải mã nguồn được mã hoá RLE về văn bản ban đầu\n",
    "\n",
    "def run_length_decoding(binary_string):\n",
    "    if not binary_string:\n",
    "        print('Tín hiệu nhận bị lỗi')\n",
    "        return\n",
    "    decoded_text = \"\"\n",
    "    n = int(len(binary_string)/8)\n",
    "    encoded_text = ''.join(chr(int(binary_string[i*8:i*8+8], 2)) for i in range(n))\n",
    "    i = 0\n",
    "    while i < len(encoded_text):\n",
    "        count = int(encoded_text[i])\n",
    "        char = encoded_text[i + 1]\n",
    "        decoded_text += char * count\n",
    "        i += 2\n",
    "    return decoded_text\n",
    "\n",
    "decoded_text = run_length_decoding(binary_string)\n",
    "\n",
    "# In ra các văn bản nhận được và lưu vào file decoded_text.txt\n",
    "if decoded_text:\n",
    "    print(decoded_text)\n",
    "file_name = 'decoded_text.txt'\n",
    "with open(file_name, 'w') as f:\n",
    "    f.write(decoded_text)"
   ]
  }
 ],
 "metadata": {
  "kernelspec": {
   "display_name": "Python 3",
   "language": "python",
   "name": "python3"
  },
  "language_info": {
   "codemirror_mode": {
    "name": "ipython",
    "version": 3
   },
   "file_extension": ".py",
   "mimetype": "text/x-python",
   "name": "python",
   "nbconvert_exporter": "python",
   "pygments_lexer": "ipython3",
   "version": "3.11.3"
  },
  "orig_nbformat": 4
 },
 "nbformat": 4,
 "nbformat_minor": 2
}
