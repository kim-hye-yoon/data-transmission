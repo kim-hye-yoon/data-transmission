{
 "cells": [
  {
   "cell_type": "code",
   "execution_count": 5,
   "metadata": {},
   "outputs": [
    {
     "name": "stdout",
     "output_type": "stream",
     "text": [
      "001100110111010110000000000000000000000000000000000000000000000000000000000000000000000000000000000000000000000000000000000000000000000000000000000000000000000000000000000000000000000000000000000000000000000000000000000000000000000000000000000000000000000101010011000101101000001100010110010100110010011011000011000101101111000010100101011111011011001010001010100000000000000000000000000000000000000000000000000000000000000000000000000000000000000000000000000000\n"
     ]
    }
   ],
   "source": [
    "# Giải điều chế âm thanh nhận được\n",
    "import warnings\n",
    "import numpy as np\n",
    "from scipy import signal\n",
    "from scipy.io.wavfile import read\n",
    "\n",
    "def decode(audio_signal, sample_rate=44100, baud_rate=50):\n",
    "    samples_per_bit = sample_rate // baud_rate\n",
    "    num_bits = len(audio_signal) // samples_per_bit\n",
    "    binary_string = ''\n",
    "    for i in range(num_bits):\n",
    "        bit_signal = audio_signal[i*samples_per_bit:(i+1)*samples_per_bit]\n",
    "        f, Pxx = signal.periodogram(bit_signal, sample_rate)\n",
    "        \n",
    "        if f[np.argmax(Pxx)] > 10000:\n",
    "            binary_string += '1'\n",
    "        else:\n",
    "            binary_string += '0'\n",
    "    return binary_string\n",
    "\n",
    "\n",
    "with warnings.catch_warnings():\n",
    "    warnings.simplefilter('ignore')\n",
    "    sample_rate, audio_signal = read('rec.wav')\n",
    "\n",
    "# Sau khi giải mã file ghi âm ta sẽ nhận được dòng bit có các bit 0 dư thừa ở đầu và cuối tín hiệu\n",
    "decoded_binary_string = decode(audio_signal, sample_rate)\n",
    "print(decoded_binary_string)"
   ]
  },
  {
   "cell_type": "code",
   "execution_count": 6,
   "metadata": {},
   "outputs": [
    {
     "name": "stdout",
     "output_type": "stream",
     "text": [
      "001100010110100000110001011001010011001001101100001100010110111100001010010101111101101100101000\n"
     ]
    }
   ],
   "source": [
    "# Xoá bỏ chuỗi tiền tố, hậu tố, các bit 0 dư thừa\n",
    "def remove_extra_bits(binary_string, preamble='010101', postamble='101010'):\n",
    "    start_index = binary_string.find(preamble) + len(preamble)\n",
    "    end_index = binary_string.rfind(postamble)\n",
    "# Nếu không tìm thấy tiền tố và hậu tố, thông báo \"Tín hiệu nhận bị lỗi\"\n",
    "    if start_index == -1 or end_index == -1:\n",
    "        print('Tín hiệu nhận bị lỗi')\n",
    "        return\n",
    "    return binary_string[start_index:end_index]\n",
    "\n",
    "# Định nghĩa chuỗi tiền tố và hậu tố\n",
    "preamble = '010101'\n",
    "postamble = '101010'\n",
    " \n",
    "# Giải mã và in kết quả\n",
    "CRC_binary_string = remove_extra_bits(decoded_binary_string, preamble, postamble)\n",
    "if CRC_binary_string:\n",
    "    print(CRC_binary_string)"
   ]
  },
  {
   "cell_type": "code",
   "execution_count": 7,
   "metadata": {},
   "outputs": [
    {
     "name": "stdout",
     "output_type": "stream",
     "text": [
      "0011000101101000001100010110010100110010011011000011000101101111\n"
     ]
    }
   ],
   "source": [
    "# Giải mã kênh mã hoá bằng mã phát hiện lỗi CRC\n",
    "import binascii\n",
    "\n",
    "def crc_decode(CRC_binary_string):\n",
    "    # Tách chuỗi nhị phân thành phần dữ liệu và phần CRC\n",
    "    data_binary = CRC_binary_string[:-32]\n",
    "    crc_binary = CRC_binary_string[-32:]\n",
    "\n",
    "    # Chuyển đổi phần dữ liệu từ nhị phân sang bytes\n",
    "    data = int(data_binary, 2).to_bytes((len(data_binary) + 7) // 8, byteorder='big')\n",
    "\n",
    "    # Tính toán CRC của phần dữ liệu\n",
    "    crc = binascii.crc32(data)\n",
    "    crc_calculated_binary = format(crc, '032b')\n",
    "\n",
    "    # Kiểm tra xem CRC được tính toán có khớp với phần CRC từ đầu vào hay không\n",
    "    if crc_calculated_binary == crc_binary:\n",
    "        return data_binary\n",
    "    else:\n",
    "        return None\n",
    "\n",
    "# Giải mã\n",
    "binary_string = crc_decode(CRC_binary_string)\n",
    "\n",
    "# In ra\n",
    "if binary_string is not None:\n",
    "    print(binary_string)\n",
    "else:\n",
    "    print('Tín hiệu nhận bị lỗi')"
   ]
  },
  {
   "cell_type": "code",
   "execution_count": 8,
   "metadata": {},
   "outputs": [
    {
     "name": "stdout",
     "output_type": "stream",
     "text": [
      "hello\n"
     ]
    }
   ],
   "source": [
    "# Giải mã nguồn được mã hoá RLE về văn bản ban đầu\n",
    "\n",
    "def run_length_decoding(binary_string):\n",
    "    if not binary_string:\n",
    "        print('Tín hiệu nhận bị lỗi')\n",
    "        return\n",
    "    decoded_text = \"\"\n",
    "    n = int(len(binary_string)/8)\n",
    "    encoded_text = ''.join(chr(int(binary_string[i*8:i*8+8], 2)) for i in range(n))\n",
    "    i = 0\n",
    "    while i < len(encoded_text):\n",
    "        count = int(encoded_text[i])\n",
    "        char = encoded_text[i + 1]\n",
    "        decoded_text += char * count\n",
    "        i += 2\n",
    "    return decoded_text\n",
    "\n",
    "decoded_text = run_length_decoding(binary_string)\n",
    "\n",
    "# In ra các văn bản nhận được và lưu vào file decoded_text.txt\n",
    "if decoded_text:\n",
    "    print(decoded_text)\n",
    "file_name = 'decoded_text.txt'\n",
    "with open(file_name, 'w') as f:\n",
    "    f.write(decoded_text)"
   ]
  }
 ],
 "metadata": {
  "kernelspec": {
   "display_name": "Python 3",
   "language": "python",
   "name": "python3"
  },
  "language_info": {
   "codemirror_mode": {
    "name": "ipython",
    "version": 3
   },
   "file_extension": ".py",
   "mimetype": "text/x-python",
   "name": "python",
   "nbconvert_exporter": "python",
   "pygments_lexer": "ipython3",
   "version": "3.11.3"
  },
  "orig_nbformat": 4
 },
 "nbformat": 4,
 "nbformat_minor": 2
}
